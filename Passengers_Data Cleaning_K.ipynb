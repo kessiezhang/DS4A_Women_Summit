{
 "cells": [
  {
   "cell_type": "code",
   "execution_count": 42,
   "metadata": {},
   "outputs": [],
   "source": [
    "import pandas as pd\n",
    "import numpy as np\n",
    "import statsmodels.api as sm\n",
    "import statsmodels.formula.api as smf\n",
    "import patsy\n",
    "sns.set(rc={'figure.figsize':(11.7,8.27)})\n",
    "sns.set(context='notebook', style='darkgrid',palette='deep', font='sans-serif', font_scale=1, color_codes=False, rc=None)\n",
    "\n",
    "import seaborn as sns\n",
    "import matplotlib.pyplot as plt\n",
    "from sklearn.linear_model import LinearRegression\n",
    "from sklearn.linear_model import RidgeCV\n",
    "import scipy.stats as stats\n",
    "%matplotlib inline\n",
    "pd.set_option('display.float_format', lambda x: '%.3f' % x)"
   ]
  },
  {
   "cell_type": "code",
   "execution_count": 216,
   "metadata": {},
   "outputs": [],
   "source": [
    "df1=pd.read_csv('data/T100D_SEGMENT_US_CARRIER_ONLY.csv')\n",
    "df2=pd.read_csv('data/T100D_SEGMENT_US_CARRIER_ONLY2.csv')\n",
    "df3=pd.read_csv('data/T100D_SEGMENT_US_CARRIER_ONLY3.csv')\n",
    "df4=pd.read_csv('data/T100D_SEGMENT_US_CARRIER_ONLY4.csv')\n",
    "df5=pd.read_csv('data/T100D_SEGMENT_US_CARRIER_ONLY5.csv')\n",
    "df6=pd.read_csv('data/T100D_SEGMENT_US_CARRIER_ONLY6.csv')\n",
    "df7=pd.read_csv('data/T100D_SEGMENT_US_CARRIER_ONLY7.csv')\n",
    "df8=pd.read_csv('data/T100D_SEGMENT_US_CARRIER_ONLY8.csv')\n",
    "df9=pd.read_csv('data/T100D_SEGMENT_US_CARRIER_ONLY9.csv')\n",
    "df10=pd.read_csv('data/T100D_SEGMENT_US_CARRIER_ONLY10.csv')"
   ]
  },
  {
   "cell_type": "code",
   "execution_count": 230,
   "metadata": {},
   "outputs": [],
   "source": [
    "df = pd.concat([df1,df2,df3,df4,df5,df6,df7,df8,df9,df10])"
   ]
  },
  {
   "cell_type": "code",
   "execution_count": 22,
   "metadata": {},
   "outputs": [
    {
     "data": {
      "text/plain": [
       "(3627692, 45)"
      ]
     },
     "execution_count": 22,
     "metadata": {},
     "output_type": "execute_result"
    }
   ],
   "source": [
    "df.shape"
   ]
  },
  {
   "cell_type": "code",
   "execution_count": 231,
   "metadata": {
    "scrolled": true
   },
   "outputs": [
    {
     "data": {
      "text/plain": [
       "(3620968, 46)"
      ]
     },
     "execution_count": 231,
     "metadata": {},
     "output_type": "execute_result"
    }
   ],
   "source": [
    "df.shape"
   ]
  },
  {
   "cell_type": "code",
   "execution_count": 232,
   "metadata": {},
   "outputs": [],
   "source": [
    "df.drop('Unnamed: 45', axis=1, inplace= True)"
   ]
  },
  {
   "cell_type": "code",
   "execution_count": 71,
   "metadata": {},
   "outputs": [
    {
     "data": {
      "text/html": [
       "<div>\n",
       "<style scoped>\n",
       "    .dataframe tbody tr th:only-of-type {\n",
       "        vertical-align: middle;\n",
       "    }\n",
       "\n",
       "    .dataframe tbody tr th {\n",
       "        vertical-align: top;\n",
       "    }\n",
       "\n",
       "    .dataframe thead th {\n",
       "        text-align: right;\n",
       "    }\n",
       "</style>\n",
       "<table border=\"1\" class=\"dataframe\">\n",
       "  <thead>\n",
       "    <tr style=\"text-align: right;\">\n",
       "      <th></th>\n",
       "      <th>DEPARTURES_SCHEDULED</th>\n",
       "      <th>DEPARTURES_PERFORMED</th>\n",
       "      <th>PAYLOAD</th>\n",
       "      <th>SEATS</th>\n",
       "      <th>PASSENGERS</th>\n",
       "      <th>FREIGHT</th>\n",
       "      <th>MAIL</th>\n",
       "      <th>DISTANCE</th>\n",
       "      <th>RAMP_TO_RAMP</th>\n",
       "      <th>AIR_TIME</th>\n",
       "      <th>...</th>\n",
       "      <th>DEST_CITY_MARKET_ID</th>\n",
       "      <th>DEST_STATE_FIPS</th>\n",
       "      <th>DEST_WAC</th>\n",
       "      <th>AIRCRAFT_GROUP</th>\n",
       "      <th>AIRCRAFT_TYPE</th>\n",
       "      <th>AIRCRAFT_CONFIG</th>\n",
       "      <th>YEAR</th>\n",
       "      <th>QUARTER</th>\n",
       "      <th>MONTH</th>\n",
       "      <th>DISTANCE_GROUP</th>\n",
       "    </tr>\n",
       "  </thead>\n",
       "  <tbody>\n",
       "    <tr>\n",
       "      <th>count</th>\n",
       "      <td>3627692.000</td>\n",
       "      <td>3627692.000</td>\n",
       "      <td>3627692.000</td>\n",
       "      <td>3627692.000</td>\n",
       "      <td>3627692.000</td>\n",
       "      <td>3627692.000</td>\n",
       "      <td>3627692.000</td>\n",
       "      <td>3627692.000</td>\n",
       "      <td>3627692.000</td>\n",
       "      <td>3627692.000</td>\n",
       "      <td>...</td>\n",
       "      <td>3627692.000</td>\n",
       "      <td>3627692.000</td>\n",
       "      <td>3627692.000</td>\n",
       "      <td>3627692.000</td>\n",
       "      <td>3627692.000</td>\n",
       "      <td>3627692.000</td>\n",
       "      <td>3627692.000</td>\n",
       "      <td>3627692.000</td>\n",
       "      <td>3627692.000</td>\n",
       "      <td>3627692.000</td>\n",
       "    </tr>\n",
       "    <tr>\n",
       "      <th>mean</th>\n",
       "      <td>23.703</td>\n",
       "      <td>24.689</td>\n",
       "      <td>737916.488</td>\n",
       "      <td>2426.412</td>\n",
       "      <td>1964.437</td>\n",
       "      <td>60994.959</td>\n",
       "      <td>2881.045</td>\n",
       "      <td>659.269</td>\n",
       "      <td>2949.477</td>\n",
       "      <td>2410.015</td>\n",
       "      <td>...</td>\n",
       "      <td>32017.396</td>\n",
       "      <td>24.137</td>\n",
       "      <td>44.966</td>\n",
       "      <td>5.274</td>\n",
       "      <td>576.073</td>\n",
       "      <td>1.208</td>\n",
       "      <td>2014.820</td>\n",
       "      <td>2.521</td>\n",
       "      <td>6.573</td>\n",
       "      <td>1.882</td>\n",
       "    </tr>\n",
       "    <tr>\n",
       "      <th>std</th>\n",
       "      <td>41.954</td>\n",
       "      <td>39.740</td>\n",
       "      <td>1389662.313</td>\n",
       "      <td>4883.877</td>\n",
       "      <td>4057.179</td>\n",
       "      <td>376540.650</td>\n",
       "      <td>23740.568</td>\n",
       "      <td>600.402</td>\n",
       "      <td>5223.506</td>\n",
       "      <td>4439.556</td>\n",
       "      <td>...</td>\n",
       "      <td>1485.162</td>\n",
       "      <td>17.901</td>\n",
       "      <td>30.171</td>\n",
       "      <td>1.716</td>\n",
       "      <td>178.760</td>\n",
       "      <td>0.531</td>\n",
       "      <td>2.758</td>\n",
       "      <td>1.114</td>\n",
       "      <td>3.447</td>\n",
       "      <td>1.167</td>\n",
       "    </tr>\n",
       "    <tr>\n",
       "      <th>min</th>\n",
       "      <td>0.000</td>\n",
       "      <td>0.000</td>\n",
       "      <td>0.000</td>\n",
       "      <td>0.000</td>\n",
       "      <td>0.000</td>\n",
       "      <td>0.000</td>\n",
       "      <td>0.000</td>\n",
       "      <td>0.000</td>\n",
       "      <td>0.000</td>\n",
       "      <td>0.000</td>\n",
       "      <td>...</td>\n",
       "      <td>30003.000</td>\n",
       "      <td>1.000</td>\n",
       "      <td>1.000</td>\n",
       "      <td>0.000</td>\n",
       "      <td>10.000</td>\n",
       "      <td>1.000</td>\n",
       "      <td>2010.000</td>\n",
       "      <td>1.000</td>\n",
       "      <td>1.000</td>\n",
       "      <td>1.000</td>\n",
       "    </tr>\n",
       "    <tr>\n",
       "      <th>25%</th>\n",
       "      <td>0.000</td>\n",
       "      <td>1.000</td>\n",
       "      <td>32580.000</td>\n",
       "      <td>48.000</td>\n",
       "      <td>8.000</td>\n",
       "      <td>0.000</td>\n",
       "      <td>0.000</td>\n",
       "      <td>205.000</td>\n",
       "      <td>143.000</td>\n",
       "      <td>115.000</td>\n",
       "      <td>...</td>\n",
       "      <td>30781.000</td>\n",
       "      <td>6.000</td>\n",
       "      <td>22.000</td>\n",
       "      <td>6.000</td>\n",
       "      <td>612.000</td>\n",
       "      <td>1.000</td>\n",
       "      <td>2012.000</td>\n",
       "      <td>2.000</td>\n",
       "      <td>4.000</td>\n",
       "      <td>1.000</td>\n",
       "    </tr>\n",
       "    <tr>\n",
       "      <th>50%</th>\n",
       "      <td>5.000</td>\n",
       "      <td>8.000</td>\n",
       "      <td>176904.000</td>\n",
       "      <td>348.000</td>\n",
       "      <td>240.000</td>\n",
       "      <td>0.000</td>\n",
       "      <td>0.000</td>\n",
       "      <td>503.000</td>\n",
       "      <td>818.000</td>\n",
       "      <td>646.000</td>\n",
       "      <td>...</td>\n",
       "      <td>31650.000</td>\n",
       "      <td>22.000</td>\n",
       "      <td>41.000</td>\n",
       "      <td>6.000</td>\n",
       "      <td>629.000</td>\n",
       "      <td>1.000</td>\n",
       "      <td>2015.000</td>\n",
       "      <td>3.000</td>\n",
       "      <td>7.000</td>\n",
       "      <td>2.000</td>\n",
       "    </tr>\n",
       "    <tr>\n",
       "      <th>75%</th>\n",
       "      <td>30.000</td>\n",
       "      <td>31.000</td>\n",
       "      <td>918880.000</td>\n",
       "      <td>2950.000</td>\n",
       "      <td>2307.000</td>\n",
       "      <td>1782.000</td>\n",
       "      <td>0.000</td>\n",
       "      <td>936.000</td>\n",
       "      <td>3838.000</td>\n",
       "      <td>3012.000</td>\n",
       "      <td>...</td>\n",
       "      <td>33158.000</td>\n",
       "      <td>39.000</td>\n",
       "      <td>74.000</td>\n",
       "      <td>6.000</td>\n",
       "      <td>675.000</td>\n",
       "      <td>1.000</td>\n",
       "      <td>2017.000</td>\n",
       "      <td>4.000</td>\n",
       "      <td>10.000</td>\n",
       "      <td>2.000</td>\n",
       "    </tr>\n",
       "    <tr>\n",
       "      <th>max</th>\n",
       "      <td>2361.000</td>\n",
       "      <td>1053.000</td>\n",
       "      <td>36450000.000</td>\n",
       "      <td>110336.000</td>\n",
       "      <td>95777.000</td>\n",
       "      <td>23905955.000</td>\n",
       "      <td>8163150.000</td>\n",
       "      <td>8253.000</td>\n",
       "      <td>895725.000</td>\n",
       "      <td>180007.000</td>\n",
       "      <td>...</td>\n",
       "      <td>36843.000</td>\n",
       "      <td>78.000</td>\n",
       "      <td>93.000</td>\n",
       "      <td>8.000</td>\n",
       "      <td>889.000</td>\n",
       "      <td>4.000</td>\n",
       "      <td>2019.000</td>\n",
       "      <td>4.000</td>\n",
       "      <td>12.000</td>\n",
       "      <td>17.000</td>\n",
       "    </tr>\n",
       "  </tbody>\n",
       "</table>\n",
       "<p>8 rows × 30 columns</p>\n",
       "</div>"
      ],
      "text/plain": [
       "       DEPARTURES_SCHEDULED  DEPARTURES_PERFORMED      PAYLOAD       SEATS  \\\n",
       "count           3627692.000           3627692.000  3627692.000 3627692.000   \n",
       "mean                 23.703                24.689   737916.488    2426.412   \n",
       "std                  41.954                39.740  1389662.313    4883.877   \n",
       "min                   0.000                 0.000        0.000       0.000   \n",
       "25%                   0.000                 1.000    32580.000      48.000   \n",
       "50%                   5.000                 8.000   176904.000     348.000   \n",
       "75%                  30.000                31.000   918880.000    2950.000   \n",
       "max                2361.000              1053.000 36450000.000  110336.000   \n",
       "\n",
       "       PASSENGERS      FREIGHT        MAIL    DISTANCE  RAMP_TO_RAMP  \\\n",
       "count 3627692.000  3627692.000 3627692.000 3627692.000   3627692.000   \n",
       "mean     1964.437    60994.959    2881.045     659.269      2949.477   \n",
       "std      4057.179   376540.650   23740.568     600.402      5223.506   \n",
       "min         0.000        0.000       0.000       0.000         0.000   \n",
       "25%         8.000        0.000       0.000     205.000       143.000   \n",
       "50%       240.000        0.000       0.000     503.000       818.000   \n",
       "75%      2307.000     1782.000       0.000     936.000      3838.000   \n",
       "max     95777.000 23905955.000 8163150.000    8253.000    895725.000   \n",
       "\n",
       "         AIR_TIME  ...  DEST_CITY_MARKET_ID  DEST_STATE_FIPS    DEST_WAC  \\\n",
       "count 3627692.000  ...          3627692.000      3627692.000 3627692.000   \n",
       "mean     2410.015  ...            32017.396           24.137      44.966   \n",
       "std      4439.556  ...             1485.162           17.901      30.171   \n",
       "min         0.000  ...            30003.000            1.000       1.000   \n",
       "25%       115.000  ...            30781.000            6.000      22.000   \n",
       "50%       646.000  ...            31650.000           22.000      41.000   \n",
       "75%      3012.000  ...            33158.000           39.000      74.000   \n",
       "max    180007.000  ...            36843.000           78.000      93.000   \n",
       "\n",
       "       AIRCRAFT_GROUP  AIRCRAFT_TYPE  AIRCRAFT_CONFIG        YEAR     QUARTER  \\\n",
       "count     3627692.000    3627692.000      3627692.000 3627692.000 3627692.000   \n",
       "mean            5.274        576.073            1.208    2014.820       2.521   \n",
       "std             1.716        178.760            0.531       2.758       1.114   \n",
       "min             0.000         10.000            1.000    2010.000       1.000   \n",
       "25%             6.000        612.000            1.000    2012.000       2.000   \n",
       "50%             6.000        629.000            1.000    2015.000       3.000   \n",
       "75%             6.000        675.000            1.000    2017.000       4.000   \n",
       "max             8.000        889.000            4.000    2019.000       4.000   \n",
       "\n",
       "            MONTH  DISTANCE_GROUP  \n",
       "count 3627692.000     3627692.000  \n",
       "mean        6.573           1.882  \n",
       "std         3.447           1.167  \n",
       "min         1.000           1.000  \n",
       "25%         4.000           1.000  \n",
       "50%         7.000           2.000  \n",
       "75%        10.000           2.000  \n",
       "max        12.000          17.000  \n",
       "\n",
       "[8 rows x 30 columns]"
      ]
     },
     "execution_count": 71,
     "metadata": {},
     "output_type": "execute_result"
    }
   ],
   "source": [
    "df.describe()"
   ]
  },
  {
   "cell_type": "code",
   "execution_count": 72,
   "metadata": {
    "scrolled": false
   },
   "outputs": [
    {
     "data": {
      "text/plain": [
       "Index(['DEPARTURES_SCHEDULED', 'DEPARTURES_PERFORMED', 'PAYLOAD', 'SEATS',\n",
       "       'PASSENGERS', 'FREIGHT', 'MAIL', 'DISTANCE', 'RAMP_TO_RAMP', 'AIR_TIME',\n",
       "       'UNIQUE_CARRIER', 'AIRLINE_ID', 'UNIQUE_CARRIER_NAME',\n",
       "       'UNIQUE_CARRIER_ENTITY', 'REGION', 'CARRIER', 'CARRIER_NAME',\n",
       "       'CARRIER_GROUP', 'CARRIER_GROUP_NEW', 'ORIGIN_AIRPORT_ID',\n",
       "       'ORIGIN_AIRPORT_SEQ_ID', 'ORIGIN_CITY_MARKET_ID', 'ORIGIN',\n",
       "       'ORIGIN_CITY_NAME', 'ORIGIN_STATE_ABR', 'ORIGIN_STATE_FIPS',\n",
       "       'ORIGIN_STATE_NM', 'ORIGIN_WAC', 'DEST_AIRPORT_ID',\n",
       "       'DEST_AIRPORT_SEQ_ID', 'DEST_CITY_MARKET_ID', 'DEST', 'DEST_CITY_NAME',\n",
       "       'DEST_STATE_ABR', 'DEST_STATE_FIPS', 'DEST_STATE_NM', 'DEST_WAC',\n",
       "       'AIRCRAFT_GROUP', 'AIRCRAFT_TYPE', 'AIRCRAFT_CONFIG', 'YEAR', 'QUARTER',\n",
       "       'MONTH', 'DISTANCE_GROUP', 'CLASS'],\n",
       "      dtype='object')"
      ]
     },
     "execution_count": 72,
     "metadata": {},
     "output_type": "execute_result"
    }
   ],
   "source": [
    "df.columns"
   ]
  },
  {
   "cell_type": "markdown",
   "metadata": {},
   "source": [
    "## Exploratory Data Analysis"
   ]
  },
  {
   "cell_type": "code",
   "execution_count": 19,
   "metadata": {},
   "outputs": [
    {
     "data": {
      "text/plain": [
       "614    265717\n",
       "694    225579\n",
       "612    214474\n",
       "629    213885\n",
       "416    187391\n",
       "Name: AIRCRAFT_TYPE, dtype: int64"
      ]
     },
     "execution_count": 19,
     "metadata": {},
     "output_type": "execute_result"
    }
   ],
   "source": [
    "df.AIRCRAFT_TYPE.value_counts().head()\n",
    "#614: Boeing 737-800\n",
    "#612: Boeing 737-700/700LR/Max 7\n",
    "#694: Airbus Industrie A320-100/200\n",
    "#629: Canadair RJ-200ER /RJ-440\n",
    "#416: Cessna 208 Caravan"
   ]
  },
  {
   "cell_type": "code",
   "execution_count": 66,
   "metadata": {
    "scrolled": true
   },
   "outputs": [
    {
     "data": {
      "text/plain": [
       "Index(['DEPARTURES_SCHEDULED', 'DEPARTURES_PERFORMED', 'PAYLOAD', 'SEATS',\n",
       "       'PASSENGERS', 'FREIGHT', 'MAIL', 'DISTANCE', 'RAMP_TO_RAMP', 'AIR_TIME',\n",
       "       'UNIQUE_CARRIER', 'UNIQUE_CARRIER_NAME', 'UNIQUE_CARRIER_ENTITY',\n",
       "       'REGION', 'CARRIER', 'CARRIER_NAME', 'CARRIER_GROUP',\n",
       "       'CARRIER_GROUP_NEW', 'ORIGIN_AIRPORT_ID', 'ORIGIN_AIRPORT_SEQ_ID',\n",
       "       'ORIGIN_CITY_MARKET_ID', 'ORIGIN', 'ORIGIN_CITY_NAME',\n",
       "       'ORIGIN_STATE_ABR', 'ORIGIN_STATE_FIPS', 'ORIGIN_STATE_NM',\n",
       "       'ORIGIN_WAC', 'DEST_AIRPORT_ID', 'DEST_AIRPORT_SEQ_ID',\n",
       "       'DEST_CITY_MARKET_ID', 'DEST', 'DEST_CITY_NAME', 'DEST_STATE_ABR',\n",
       "       'DEST_STATE_FIPS', 'DEST_STATE_NM', 'DEST_WAC', 'AIRCRAFT_GROUP',\n",
       "       'AIRCRAFT_TYPE', 'AIRCRAFT_CONFIG', 'YEAR', 'QUARTER', 'MONTH',\n",
       "       'DISTANCE_GROUP', 'CLASS', 'Airline_Id'],\n",
       "      dtype='object')"
      ]
     },
     "execution_count": 66,
     "metadata": {},
     "output_type": "execute_result"
    }
   ],
   "source": [
    "df.columns"
   ]
  },
  {
   "cell_type": "code",
   "execution_count": 74,
   "metadata": {
    "scrolled": true
   },
   "outputs": [
    {
     "data": {
      "text/plain": [
       "<matplotlib.axes._subplots.AxesSubplot at 0x1c23d86470>"
      ]
     },
     "execution_count": 74,
     "metadata": {},
     "output_type": "execute_result"
    },
    {
     "data": {
      "image/png": "[encoded data removed]",
      "text/plain": [
       "<Figure size 432x288 with 1 Axes>"
      ]
     },
     "metadata": {
      "needs_background": "light"
     },
     "output_type": "display_data"
    }
   ],
   "source": [
    "#Top 10 Carrier in general\n",
    "df['UNIQUE_CARRIER'].value_counts().head(10).plot(kind='bar')"
   ]
  },
  {
   "cell_type": "code",
   "execution_count": 139,
   "metadata": {
    "scrolled": true
   },
   "outputs": [
    {
     "data": {
      "text/plain": [
       "<matplotlib.axes._subplots.AxesSubplot at 0x1c311fa4e0>"
      ]
     },
     "execution_count": 139,
     "metadata": {},
     "output_type": "execute_result"
    },
    {
     "data": {
      "image/png": "[encoded data removed]",
      "text/plain": [
       "<Figure size 432x288 with 1 Axes>"
      ]
     },
     "metadata": {
      "needs_background": "light"
     },
     "output_type": "display_data"
    }
   ],
   "source": [
    "#Top 10 Carrier that has the most passengers\n",
    "df.groupby(['UNIQUE_CARRIER']).sum()['PASSENGERS'].sort_values(ascending=False).head(10).plot(kind='bar')"
   ]
  },
  {
   "cell_type": "code",
   "execution_count": 140,
   "metadata": {
    "scrolled": true
   },
   "outputs": [
    {
     "data": {
      "text/plain": [
       "<matplotlib.axes._subplots.AxesSubplot at 0x1c316234e0>"
      ]
     },
     "execution_count": 140,
     "metadata": {},
     "output_type": "execute_result"
    },
    {
     "data": {
      "image/png": "[encoded data removed]",
      "text/plain": [
       "<Figure size 432x288 with 1 Axes>"
      ]
     },
     "metadata": {
      "needs_background": "light"
     },
     "output_type": "display_data"
    }
   ],
   "source": [
    "#Top 10 Carrier that has the most freight\n",
    "df.groupby(['UNIQUE_CARRIER']).sum()['FREIGHT'].sort_values(ascending=False).head(10).plot(kind='bar')"
   ]
  },
  {
   "cell_type": "code",
   "execution_count": 141,
   "metadata": {},
   "outputs": [
    {
     "data": {
      "text/plain": [
       "<matplotlib.axes._subplots.AxesSubplot at 0x1c31452978>"
      ]
     },
     "execution_count": 141,
     "metadata": {},
     "output_type": "execute_result"
    },
    {
     "data": {
      "image/png": "[encoded data removed]",
      "text/plain": [
       "<Figure size 432x288 with 1 Axes>"
      ]
     },
     "metadata": {
      "needs_background": "light"
     },
     "output_type": "display_data"
    }
   ],
   "source": [
    "#Top 10 Carrier that has the most freight\n",
    "df.groupby(['UNIQUE_CARRIER']).sum()['MAIL'].sort_values(ascending=False).head(10).plot(kind='bar')"
   ]
  },
  {
   "cell_type": "code",
   "execution_count": 86,
   "metadata": {
    "scrolled": true
   },
   "outputs": [],
   "source": [
    "#TOP 10 airlines that have most flights\n",
    "top_10_airline=df['UNIQUE_CARRIER'].value_counts().head(10).index.tolist()"
   ]
  },
  {
   "cell_type": "code",
   "execution_count": 89,
   "metadata": {},
   "outputs": [],
   "source": [
    "top_airline_df=df[df['UNIQUE_CARRIER'].isin((top_10_airline))]"
   ]
  },
  {
   "cell_type": "code",
   "execution_count": 117,
   "metadata": {
    "scrolled": false
   },
   "outputs": [
    {
     "data": {
      "text/html": [
       "<div>\n",
       "<style scoped>\n",
       "    .dataframe tbody tr th:only-of-type {\n",
       "        vertical-align: middle;\n",
       "    }\n",
       "\n",
       "    .dataframe tbody tr th {\n",
       "        vertical-align: top;\n",
       "    }\n",
       "\n",
       "    .dataframe thead th {\n",
       "        text-align: right;\n",
       "    }\n",
       "</style>\n",
       "<table border=\"1\" class=\"dataframe\">\n",
       "  <thead>\n",
       "    <tr style=\"text-align: right;\">\n",
       "      <th></th>\n",
       "      <th></th>\n",
       "      <th>DEPARTURES_SCHEDULED</th>\n",
       "      <th>DEPARTURES_PERFORMED</th>\n",
       "      <th>PAYLOAD</th>\n",
       "      <th>SEATS</th>\n",
       "      <th>PASSENGERS</th>\n",
       "      <th>FREIGHT</th>\n",
       "      <th>MAIL</th>\n",
       "      <th>DISTANCE</th>\n",
       "      <th>RAMP_TO_RAMP</th>\n",
       "      <th>AIR_TIME</th>\n",
       "      <th>...</th>\n",
       "      <th>DEST_AIRPORT_SEQ_ID</th>\n",
       "      <th>DEST_CITY_MARKET_ID</th>\n",
       "      <th>DEST_STATE_FIPS</th>\n",
       "      <th>DEST_WAC</th>\n",
       "      <th>AIRCRAFT_GROUP</th>\n",
       "      <th>AIRCRAFT_TYPE</th>\n",
       "      <th>AIRCRAFT_CONFIG</th>\n",
       "      <th>QUARTER</th>\n",
       "      <th>MONTH</th>\n",
       "      <th>DISTANCE_GROUP</th>\n",
       "    </tr>\n",
       "    <tr>\n",
       "      <th>UNIQUE_CARRIER</th>\n",
       "      <th>YEAR</th>\n",
       "      <th></th>\n",
       "      <th></th>\n",
       "      <th></th>\n",
       "      <th></th>\n",
       "      <th></th>\n",
       "      <th></th>\n",
       "      <th></th>\n",
       "      <th></th>\n",
       "      <th></th>\n",
       "      <th></th>\n",
       "      <th></th>\n",
       "      <th></th>\n",
       "      <th></th>\n",
       "      <th></th>\n",
       "      <th></th>\n",
       "      <th></th>\n",
       "      <th></th>\n",
       "      <th></th>\n",
       "      <th></th>\n",
       "      <th></th>\n",
       "      <th></th>\n",
       "    </tr>\n",
       "  </thead>\n",
       "  <tbody>\n",
       "    <tr>\n",
       "      <th rowspan=\"5\" valign=\"top\">AA</th>\n",
       "      <th>2010</th>\n",
       "      <td>543162.000</td>\n",
       "      <td>534179.000</td>\n",
       "      <td>22443355110.000</td>\n",
       "      <td>82012305.000</td>\n",
       "      <td>66542740.000</td>\n",
       "      <td>237078586.000</td>\n",
       "      <td>61342651.000</td>\n",
       "      <td>10104939.000</td>\n",
       "      <td>88567868.000</td>\n",
       "      <td>75951169.000</td>\n",
       "      <td>...</td>\n",
       "      <td>11574808786</td>\n",
       "      <td>285746072</td>\n",
       "      <td>257541</td>\n",
       "      <td>496599</td>\n",
       "      <td>54066</td>\n",
       "      <td>5708157</td>\n",
       "      <td>9011</td>\n",
       "      <td>22134</td>\n",
       "      <td>57577</td>\n",
       "      <td>25075</td>\n",
       "    </tr>\n",
       "    <tr>\n",
       "      <th>2012</th>\n",
       "      <td>1054922.000</td>\n",
       "      <td>1035942.000</td>\n",
       "      <td>43315251200.000</td>\n",
       "      <td>159717770.000</td>\n",
       "      <td>131388620.000</td>\n",
       "      <td>450869364.000</td>\n",
       "      <td>25361912.000</td>\n",
       "      <td>18329600.000</td>\n",
       "      <td>170998808.000</td>\n",
       "      <td>146376364.000</td>\n",
       "      <td>...</td>\n",
       "      <td>21172148616</td>\n",
       "      <td>525043450</td>\n",
       "      <td>479004</td>\n",
       "      <td>924816</td>\n",
       "      <td>99468</td>\n",
       "      <td>10468296</td>\n",
       "      <td>16578</td>\n",
       "      <td>41186</td>\n",
       "      <td>107014</td>\n",
       "      <td>45748</td>\n",
       "    </tr>\n",
       "    <tr>\n",
       "      <th>2013</th>\n",
       "      <td>540068.000</td>\n",
       "      <td>530412.000</td>\n",
       "      <td>22031434915.000</td>\n",
       "      <td>79268935.000</td>\n",
       "      <td>65547434.000</td>\n",
       "      <td>232549983.000</td>\n",
       "      <td>14784440.000</td>\n",
       "      <td>9262178.000</td>\n",
       "      <td>87849294.000</td>\n",
       "      <td>75163393.000</td>\n",
       "      <td>...</td>\n",
       "      <td>10888157069</td>\n",
       "      <td>270365192</td>\n",
       "      <td>252409</td>\n",
       "      <td>481057</td>\n",
       "      <td>51240</td>\n",
       "      <td>5390832</td>\n",
       "      <td>8540</td>\n",
       "      <td>21491</td>\n",
       "      <td>56003</td>\n",
       "      <td>23152</td>\n",
       "    </tr>\n",
       "    <tr>\n",
       "      <th>2015</th>\n",
       "      <td>1457308.000</td>\n",
       "      <td>1436234.000</td>\n",
       "      <td>60154370212.000</td>\n",
       "      <td>221320496.000</td>\n",
       "      <td>188172084.000</td>\n",
       "      <td>387230130.000</td>\n",
       "      <td>189118098.000</td>\n",
       "      <td>29290204.000</td>\n",
       "      <td>238825734.000</td>\n",
       "      <td>200516760.000</td>\n",
       "      <td>...</td>\n",
       "      <td>37045539742</td>\n",
       "      <td>920210176</td>\n",
       "      <td>847650</td>\n",
       "      <td>1545528</td>\n",
       "      <td>174068</td>\n",
       "      <td>19064126</td>\n",
       "      <td>29010</td>\n",
       "      <td>83978</td>\n",
       "      <td>223368</td>\n",
       "      <td>73992</td>\n",
       "    </tr>\n",
       "    <tr>\n",
       "      <th>2016</th>\n",
       "      <td>917271.000</td>\n",
       "      <td>906890.000</td>\n",
       "      <td>38687458486.000</td>\n",
       "      <td>141738812.000</td>\n",
       "      <td>117639678.000</td>\n",
       "      <td>236921204.000</td>\n",
       "      <td>154906051.000</td>\n",
       "      <td>19727170.000</td>\n",
       "      <td>149364406.000</td>\n",
       "      <td>124288339.000</td>\n",
       "      <td>...</td>\n",
       "      <td>25411235261</td>\n",
       "      <td>630427364</td>\n",
       "      <td>573061</td>\n",
       "      <td>1037838</td>\n",
       "      <td>119348</td>\n",
       "      <td>13236839</td>\n",
       "      <td>19869</td>\n",
       "      <td>49542</td>\n",
       "      <td>128556</td>\n",
       "      <td>49930</td>\n",
       "    </tr>\n",
       "  </tbody>\n",
       "</table>\n",
       "<p>5 rows × 29 columns</p>\n",
       "</div>"
      ],
      "text/plain": [
       "                     DEPARTURES_SCHEDULED  DEPARTURES_PERFORMED  \\\n",
       "UNIQUE_CARRIER YEAR                                               \n",
       "AA             2010            543162.000            534179.000   \n",
       "               2012           1054922.000           1035942.000   \n",
       "               2013            540068.000            530412.000   \n",
       "               2015           1457308.000           1436234.000   \n",
       "               2016            917271.000            906890.000   \n",
       "\n",
       "                            PAYLOAD         SEATS    PASSENGERS       FREIGHT  \\\n",
       "UNIQUE_CARRIER YEAR                                                             \n",
       "AA             2010 22443355110.000  82012305.000  66542740.000 237078586.000   \n",
       "               2012 43315251200.000 159717770.000 131388620.000 450869364.000   \n",
       "               2013 22031434915.000  79268935.000  65547434.000 232549983.000   \n",
       "               2015 60154370212.000 221320496.000 188172084.000 387230130.000   \n",
       "               2016 38687458486.000 141738812.000 117639678.000 236921204.000   \n",
       "\n",
       "                             MAIL     DISTANCE  RAMP_TO_RAMP      AIR_TIME  \\\n",
       "UNIQUE_CARRIER YEAR                                                          \n",
       "AA             2010  61342651.000 10104939.000  88567868.000  75951169.000   \n",
       "               2012  25361912.000 18329600.000 170998808.000 146376364.000   \n",
       "               2013  14784440.000  9262178.000  87849294.000  75163393.000   \n",
       "               2015 189118098.000 29290204.000 238825734.000 200516760.000   \n",
       "               2016 154906051.000 19727170.000 149364406.000 124288339.000   \n",
       "\n",
       "                     ...  DEST_AIRPORT_SEQ_ID  DEST_CITY_MARKET_ID  \\\n",
       "UNIQUE_CARRIER YEAR  ...                                             \n",
       "AA             2010  ...          11574808786            285746072   \n",
       "               2012  ...          21172148616            525043450   \n",
       "               2013  ...          10888157069            270365192   \n",
       "               2015  ...          37045539742            920210176   \n",
       "               2016  ...          25411235261            630427364   \n",
       "\n",
       "                     DEST_STATE_FIPS  DEST_WAC  AIRCRAFT_GROUP  AIRCRAFT_TYPE  \\\n",
       "UNIQUE_CARRIER YEAR                                                             \n",
       "AA             2010           257541    496599           54066        5708157   \n",
       "               2012           479004    924816           99468       10468296   \n",
       "               2013           252409    481057           51240        5390832   \n",
       "               2015           847650   1545528          174068       19064126   \n",
       "               2016           573061   1037838          119348       13236839   \n",
       "\n",
       "                     AIRCRAFT_CONFIG  QUARTER   MONTH  DISTANCE_GROUP  \n",
       "UNIQUE_CARRIER YEAR                                                    \n",
       "AA             2010             9011    22134   57577           25075  \n",
       "               2012            16578    41186  107014           45748  \n",
       "               2013             8540    21491   56003           23152  \n",
       "               2015            29010    83978  223368           73992  \n",
       "               2016            19869    49542  128556           49930  \n",
       "\n",
       "[5 rows x 29 columns]"
      ]
     },
     "execution_count": 117,
     "metadata": {},
     "output_type": "execute_result"
    }
   ],
   "source": [
    "top_airline_df.groupby(['UNIQUE_CARRIER','YEAR']).sum().head()"
   ]
  },
  {
   "cell_type": "code",
   "execution_count": 108,
   "metadata": {},
   "outputs": [
    {
     "data": {
      "text/plain": [
       "<matplotlib.axes._subplots.AxesSubplot at 0x1c2ca05a90>"
      ]
     },
     "execution_count": 108,
     "metadata": {},
     "output_type": "execute_result"
    },
    {
     "data": {
      "image/png": "[encoded data removed]",
      "text/plain": [
       "<Figure size 432x288 with 1 Axes>"
      ]
     },
     "metadata": {
      "needs_background": "light"
     },
     "output_type": "display_data"
    }
   ],
   "source": [
    "df.groupby('YEAR').sum()[['PASSENGERS','FREIGHT','MAIL']].plot()"
   ]
  },
  {
   "cell_type": "code",
   "execution_count": 177,
   "metadata": {
    "scrolled": true
   },
   "outputs": [
    {
     "data": {
      "text/plain": [
       "<matplotlib.axes._subplots.AxesSubplot at 0x1eb9e96198>"
      ]
     },
     "execution_count": 177,
     "metadata": {},
     "output_type": "execute_result"
    },
    {
     "data": {
      "image/png": "[encoded data removed]",
      "text/plain": [
       "<Figure size 432x288 with 1 Axes>"
      ]
     },
     "metadata": {
      "needs_background": "light"
     },
     "output_type": "display_data"
    }
   ],
   "source": [
    "df[df['UNIQUE_CARRIER']=='AA'].groupby('YEAR').sum()[['PASSENGERS','FREIGHT','MAIL']].plot(kind='bar')"
   ]
  },
  {
   "cell_type": "code",
   "execution_count": 175,
   "metadata": {},
   "outputs": [
    {
     "data": {
      "text/plain": [
       "<matplotlib.axes._subplots.AxesSubplot at 0x1e0bbe0710>"
      ]
     },
     "execution_count": 175,
     "metadata": {},
     "output_type": "execute_result"
    },
    {
     "data": {
      "image/png": "[encoded data removed]",
      "text/plain": [
       "<Figure size 432x288 with 1 Axes>"
      ]
     },
     "metadata": {
      "needs_background": "light"
     },
     "output_type": "display_data"
    }
   ],
   "source": [
    "df.groupby('MONTH').sum()[['PASSENGERS','FREIGHT','MAIL']].plot(kind='bar')"
   ]
  },
  {
   "cell_type": "code",
   "execution_count": 178,
   "metadata": {
    "scrolled": true
   },
   "outputs": [
    {
     "data": {
      "text/plain": [
       "<matplotlib.axes._subplots.AxesSubplot at 0x1ebed67b00>"
      ]
     },
     "execution_count": 178,
     "metadata": {},
     "output_type": "execute_result"
    },
    {
     "data": {
      "image/png": "[encoded data removed]",
      "text/plain": [
       "<Figure size 432x288 with 1 Axes>"
      ]
     },
     "metadata": {
      "needs_background": "light"
     },
     "output_type": "display_data"
    }
   ],
   "source": [
    "df.groupby('QUARTER').sum()[['PASSENGERS','FREIGHT','MAIL']].plot(kind='bar')"
   ]
  },
  {
   "cell_type": "code",
   "execution_count": 196,
   "metadata": {
    "scrolled": false
   },
   "outputs": [
    {
     "data": {
      "text/plain": [
       "<matplotlib.axes._subplots.AxesSubplot at 0x1f179b32b0>"
      ]
     },
     "execution_count": 196,
     "metadata": {},
     "output_type": "execute_result"
    },
    {
     "data": {
      "image/png": "[encoded data removed]",
      "text/plain": [
       "<Figure size 432x288 with 1 Axes>"
      ]
     },
     "metadata": {
      "needs_background": "light"
     },
     "output_type": "display_data"
    }
   ],
   "source": [
    "df[df['UNIQUE_CARRIER']=='AA'].groupby('MONTH').sum()[\n",
    "    ['PASSENGERS','FREIGHT','MAIL']].plot(kind='bar') "
   ]
  },
  {
   "cell_type": "code",
   "execution_count": null,
   "metadata": {},
   "outputs": [],
   "source": [
    "#Let's find the most popular destination airport "
   ]
  },
  {
   "cell_type": "code",
   "execution_count": 146,
   "metadata": {},
   "outputs": [
    {
     "data": {
      "text/plain": [
       "<matplotlib.axes._subplots.AxesSubplot at 0x1c31985b70>"
      ]
     },
     "execution_count": 146,
     "metadata": {},
     "output_type": "execute_result"
    },
    {
     "data": {
      "image/png": "[encoded data removed]",
      "text/plain": [
       "<Figure size 432x288 with 1 Axes>"
      ]
     },
     "metadata": {
      "needs_background": "light"
     },
     "output_type": "display_data"
    }
   ],
   "source": [
    "(top_airline_df.groupby('ORIGIN').sum()['PASSENGERS']\n",
    "                                         .sort_values(ascending=False)).head(10).plot(kind='bar')"
   ]
  },
  {
   "cell_type": "code",
   "execution_count": 147,
   "metadata": {},
   "outputs": [
    {
     "data": {
      "text/plain": [
       "<matplotlib.axes._subplots.AxesSubplot at 0x1c31976860>"
      ]
     },
     "execution_count": 147,
     "metadata": {},
     "output_type": "execute_result"
    },
    {
     "data": {
      "image/png": "[encoded data removed]",
      "text/plain": [
       "<Figure size 432x288 with 1 Axes>"
      ]
     },
     "metadata": {
      "needs_background": "light"
     },
     "output_type": "display_data"
    }
   ],
   "source": [
    "(top_airline_df.groupby('DEST').sum()['PASSENGERS']\n",
    "                                         .sort_values(ascending=False)).head(10).plot(kind='bar')"
   ]
  },
  {
   "cell_type": "code",
   "execution_count": 148,
   "metadata": {},
   "outputs": [
    {
     "data": {
      "text/plain": [
       "<matplotlib.axes._subplots.AxesSubplot at 0x1c3390c978>"
      ]
     },
     "execution_count": 148,
     "metadata": {},
     "output_type": "execute_result"
    },
    {
     "data": {
      "image/png": "[encoded data removed]",
      "text/plain": [
       "<Figure size 432x288 with 1 Axes>"
      ]
     },
     "metadata": {
      "needs_background": "light"
     },
     "output_type": "display_data"
    }
   ],
   "source": [
    "(top_airline_df.groupby('ORIGIN').sum()['FREIGHT']\n",
    "                                         .sort_values(ascending=False)).head(10).plot(kind='bar')"
   ]
  },
  {
   "cell_type": "code",
   "execution_count": 149,
   "metadata": {
    "scrolled": true
   },
   "outputs": [
    {
     "data": {
      "text/plain": [
       "<matplotlib.axes._subplots.AxesSubplot at 0x1c3397cb70>"
      ]
     },
     "execution_count": 149,
     "metadata": {},
     "output_type": "execute_result"
    },
    {
     "data": {
      "image/png": "[encoded data removed]",
      "text/plain": [
       "<Figure size 432x288 with 1 Axes>"
      ]
     },
     "metadata": {
      "needs_background": "light"
     },
     "output_type": "display_data"
    }
   ],
   "source": [
    "(top_airline_df.groupby('DEST').sum()['FREIGHT']\n",
    "                                         .sort_values(ascending=False)).head(10).plot(kind='bar')"
   ]
  },
  {
   "cell_type": "code",
   "execution_count": 150,
   "metadata": {},
   "outputs": [
    {
     "data": {
      "text/plain": [
       "<matplotlib.axes._subplots.AxesSubplot at 0x1c33a4c048>"
      ]
     },
     "execution_count": 150,
     "metadata": {},
     "output_type": "execute_result"
    },
    {
     "data": {
      "image/png": "[encoded data removed]",
      "text/plain": [
       "<Figure size 432x288 with 1 Axes>"
      ]
     },
     "metadata": {
      "needs_background": "light"
     },
     "output_type": "display_data"
    }
   ],
   "source": [
    "(top_airline_df.groupby('ORIGIN').sum()['MAIL']\n",
    "                                         .sort_values(ascending=False)).head(10).plot(kind='bar')"
   ]
  },
  {
   "cell_type": "code",
   "execution_count": 151,
   "metadata": {},
   "outputs": [
    {
     "data": {
      "text/plain": [
       "<matplotlib.axes._subplots.AxesSubplot at 0x1c33b8dac8>"
      ]
     },
     "execution_count": 151,
     "metadata": {},
     "output_type": "execute_result"
    },
    {
     "data": {
      "image/png": "[encoded data removed]",
      "text/plain": [
       "<Figure size 432x288 with 1 Axes>"
      ]
     },
     "metadata": {
      "needs_background": "light"
     },
     "output_type": "display_data"
    }
   ],
   "source": [
    "(top_airline_df.groupby('DEST').sum()['MAIL']\n",
    "                                         .sort_values(ascending=False)).head(10).plot(kind='bar')"
   ]
  },
  {
   "cell_type": "code",
   "execution_count": 183,
   "metadata": {},
   "outputs": [
    {
     "data": {
      "text/plain": [
       "Index(['DEPARTURES_SCHEDULED', 'DEPARTURES_PERFORMED', 'PAYLOAD', 'SEATS',\n",
       "       'PASSENGERS', 'FREIGHT', 'MAIL', 'DISTANCE', 'RAMP_TO_RAMP', 'AIR_TIME',\n",
       "       'UNIQUE_CARRIER', 'AIRLINE_ID', 'UNIQUE_CARRIER_NAME',\n",
       "       'UNIQUE_CARRIER_ENTITY', 'REGION', 'CARRIER', 'CARRIER_NAME',\n",
       "       'CARRIER_GROUP', 'CARRIER_GROUP_NEW', 'ORIGIN_AIRPORT_ID',\n",
       "       'ORIGIN_AIRPORT_SEQ_ID', 'ORIGIN_CITY_MARKET_ID', 'ORIGIN',\n",
       "       'ORIGIN_CITY_NAME', 'ORIGIN_STATE_ABR', 'ORIGIN_STATE_FIPS',\n",
       "       'ORIGIN_STATE_NM', 'ORIGIN_WAC', 'DEST_AIRPORT_ID',\n",
       "       'DEST_AIRPORT_SEQ_ID', 'DEST_CITY_MARKET_ID', 'DEST', 'DEST_CITY_NAME',\n",
       "       'DEST_STATE_ABR', 'DEST_STATE_FIPS', 'DEST_STATE_NM', 'DEST_WAC',\n",
       "       'AIRCRAFT_GROUP', 'AIRCRAFT_TYPE', 'AIRCRAFT_CONFIG', 'YEAR', 'QUARTER',\n",
       "       'MONTH', 'DISTANCE_GROUP', 'CLASS', 'EMPTY_SEATS'],\n",
       "      dtype='object')"
      ]
     },
     "execution_count": 183,
     "metadata": {},
     "output_type": "execute_result"
    }
   ],
   "source": [
    "df.columns"
   ]
  },
  {
   "cell_type": "code",
   "execution_count": 233,
   "metadata": {},
   "outputs": [],
   "source": [
    "data = df[['PAYLOAD','PASSENGERS','SEATS','FREIGHT','MAIL','YEAR','QUARTER','MONTH']]"
   ]
  },
  {
   "cell_type": "code",
   "execution_count": 234,
   "metadata": {},
   "outputs": [
    {
     "name": "stdout",
     "output_type": "stream",
     "text": [
      "<class 'pandas.core.frame.DataFrame'>\n",
      "Int64Index: 3620968 entries, 0 to 345003\n",
      "Data columns (total 8 columns):\n",
      "PAYLOAD       float64\n",
      "PASSENGERS    float64\n",
      "SEATS         float64\n",
      "FREIGHT       float64\n",
      "MAIL          float64\n",
      "YEAR          int64\n",
      "QUARTER       int64\n",
      "MONTH         int64\n",
      "dtypes: float64(5), int64(3)\n",
      "memory usage: 248.6 MB\n"
     ]
    }
   ],
   "source": [
    "data.info()"
   ]
  },
  {
   "cell_type": "code",
   "execution_count": 235,
   "metadata": {},
   "outputs": [
    {
     "name": "stderr",
     "output_type": "stream",
     "text": [
      "/Users/kessiezhang/anaconda3/lib/python3.7/site-packages/ipykernel_launcher.py:1: SettingWithCopyWarning: \n",
      "A value is trying to be set on a copy of a slice from a DataFrame.\n",
      "Try using .loc[row_indexer,col_indexer] = value instead\n",
      "\n",
      "See the caveats in the documentation: http://pandas.pydata.org/pandas-docs/stable/indexing.html#indexing-view-versus-copy\n",
      "  \"\"\"Entry point for launching an IPython kernel.\n"
     ]
    }
   ],
   "source": [
    "data['EMPTY_SEATS']=data['SEATS']-data['PASSENGERS']"
   ]
  },
  {
   "cell_type": "code",
   "execution_count": 153,
   "metadata": {},
   "outputs": [],
   "source": [
    "import datetime\n",
    "from datetime import date"
   ]
  },
  {
   "cell_type": "code",
   "execution_count": 236,
   "metadata": {},
   "outputs": [
    {
     "name": "stderr",
     "output_type": "stream",
     "text": [
      "/Users/kessiezhang/anaconda3/lib/python3.7/site-packages/ipykernel_launcher.py:1: SettingWithCopyWarning: \n",
      "A value is trying to be set on a copy of a slice from a DataFrame.\n",
      "Try using .loc[row_indexer,col_indexer] = value instead\n",
      "\n",
      "See the caveats in the documentation: http://pandas.pydata.org/pandas-docs/stable/indexing.html#indexing-view-versus-copy\n",
      "  \"\"\"Entry point for launching an IPython kernel.\n",
      "/Users/kessiezhang/anaconda3/lib/python3.7/site-packages/pandas/core/generic.py:5096: SettingWithCopyWarning: \n",
      "A value is trying to be set on a copy of a slice from a DataFrame.\n",
      "Try using .loc[row_indexer,col_indexer] = value instead\n",
      "\n",
      "See the caveats in the documentation: http://pandas.pydata.org/pandas-docs/stable/indexing.html#indexing-view-versus-copy\n",
      "  self[name] = value\n"
     ]
    }
   ],
   "source": [
    "data['DAY_PROXY'] = 1\n",
    "\n",
    "data.YEAR = data.YEAR.apply(str)\n",
    "data.MONTH = data.MONTH.apply(str)\n",
    "data.DAY_PROXY = data.DAY_PROXY.apply(str)"
   ]
  },
  {
   "cell_type": "code",
   "execution_count": 190,
   "metadata": {},
   "outputs": [
    {
     "name": "stdout",
     "output_type": "stream",
     "text": [
      "<class 'pandas.core.frame.DataFrame'>\n",
      "Int64Index: 3627692 entries, 0 to 391008\n",
      "Data columns (total 10 columns):\n",
      "PAYLOAD        float64\n",
      "PASSENGERS     float64\n",
      "SEATS          float64\n",
      "FREIGHT        float64\n",
      "MAIL           float64\n",
      "YEAR           object\n",
      "QUARTER        int64\n",
      "MONTH          object\n",
      "EMPTY_SEATS    float64\n",
      "DAY_PROXY      object\n",
      "dtypes: float64(6), int64(1), object(3)\n",
      "memory usage: 304.4+ MB\n"
     ]
    }
   ],
   "source": [
    "data.info()"
   ]
  },
  {
   "cell_type": "code",
   "execution_count": 237,
   "metadata": {},
   "outputs": [
    {
     "name": "stderr",
     "output_type": "stream",
     "text": [
      "/Users/kessiezhang/anaconda3/lib/python3.7/site-packages/ipykernel_launcher.py:1: SettingWithCopyWarning: \n",
      "A value is trying to be set on a copy of a slice from a DataFrame.\n",
      "Try using .loc[row_indexer,col_indexer] = value instead\n",
      "\n",
      "See the caveats in the documentation: http://pandas.pydata.org/pandas-docs/stable/indexing.html#indexing-view-versus-copy\n",
      "  \"\"\"Entry point for launching an IPython kernel.\n"
     ]
    }
   ],
   "source": [
    "data['DATE'] = data.MONTH + '/' + data.DAY_PROXY + '/' + data.YEAR"
   ]
  },
  {
   "cell_type": "code",
   "execution_count": 192,
   "metadata": {},
   "outputs": [
    {
     "data": {
      "text/html": [
       "<div>\n",
       "<style scoped>\n",
       "    .dataframe tbody tr th:only-of-type {\n",
       "        vertical-align: middle;\n",
       "    }\n",
       "\n",
       "    .dataframe tbody tr th {\n",
       "        vertical-align: top;\n",
       "    }\n",
       "\n",
       "    .dataframe thead th {\n",
       "        text-align: right;\n",
       "    }\n",
       "</style>\n",
       "<table border=\"1\" class=\"dataframe\">\n",
       "  <thead>\n",
       "    <tr style=\"text-align: right;\">\n",
       "      <th></th>\n",
       "      <th>PAYLOAD</th>\n",
       "      <th>PASSENGERS</th>\n",
       "      <th>SEATS</th>\n",
       "      <th>FREIGHT</th>\n",
       "      <th>MAIL</th>\n",
       "      <th>YEAR</th>\n",
       "      <th>QUARTER</th>\n",
       "      <th>MONTH</th>\n",
       "      <th>EMPTY_SEATS</th>\n",
       "      <th>DAY_PROXY</th>\n",
       "      <th>DATE</th>\n",
       "    </tr>\n",
       "  </thead>\n",
       "  <tbody>\n",
       "    <tr>\n",
       "      <th>0</th>\n",
       "      <td>383600.000</td>\n",
       "      <td>0.000</td>\n",
       "      <td>0.000</td>\n",
       "      <td>33915.000</td>\n",
       "      <td>4598.000</td>\n",
       "      <td>2010</td>\n",
       "      <td>1</td>\n",
       "      <td>2</td>\n",
       "      <td>0.000</td>\n",
       "      <td>1</td>\n",
       "      <td>2/1/2010</td>\n",
       "    </tr>\n",
       "    <tr>\n",
       "      <th>1</th>\n",
       "      <td>12500.000</td>\n",
       "      <td>46.000</td>\n",
       "      <td>50.000</td>\n",
       "      <td>0.000</td>\n",
       "      <td>0.000</td>\n",
       "      <td>2010</td>\n",
       "      <td>1</td>\n",
       "      <td>2</td>\n",
       "      <td>4.000</td>\n",
       "      <td>1</td>\n",
       "      <td>2/1/2010</td>\n",
       "    </tr>\n",
       "    <tr>\n",
       "      <th>2</th>\n",
       "      <td>12500.000</td>\n",
       "      <td>46.000</td>\n",
       "      <td>50.000</td>\n",
       "      <td>0.000</td>\n",
       "      <td>0.000</td>\n",
       "      <td>2010</td>\n",
       "      <td>1</td>\n",
       "      <td>2</td>\n",
       "      <td>4.000</td>\n",
       "      <td>1</td>\n",
       "      <td>2/1/2010</td>\n",
       "    </tr>\n",
       "    <tr>\n",
       "      <th>3</th>\n",
       "      <td>746000.000</td>\n",
       "      <td>0.000</td>\n",
       "      <td>25.000</td>\n",
       "      <td>221471.000</td>\n",
       "      <td>0.000</td>\n",
       "      <td>2010</td>\n",
       "      <td>1</td>\n",
       "      <td>2</td>\n",
       "      <td>25.000</td>\n",
       "      <td>1</td>\n",
       "      <td>2/1/2010</td>\n",
       "    </tr>\n",
       "    <tr>\n",
       "      <th>4</th>\n",
       "      <td>67200.000</td>\n",
       "      <td>109.000</td>\n",
       "      <td>336.000</td>\n",
       "      <td>4.000</td>\n",
       "      <td>194.000</td>\n",
       "      <td>2010</td>\n",
       "      <td>1</td>\n",
       "      <td>3</td>\n",
       "      <td>227.000</td>\n",
       "      <td>1</td>\n",
       "      <td>3/1/2010</td>\n",
       "    </tr>\n",
       "  </tbody>\n",
       "</table>\n",
       "</div>"
      ],
      "text/plain": [
       "     PAYLOAD  PASSENGERS   SEATS    FREIGHT     MAIL  YEAR  QUARTER MONTH  \\\n",
       "0 383600.000       0.000   0.000  33915.000 4598.000  2010        1     2   \n",
       "1  12500.000      46.000  50.000      0.000    0.000  2010        1     2   \n",
       "2  12500.000      46.000  50.000      0.000    0.000  2010        1     2   \n",
       "3 746000.000       0.000  25.000 221471.000    0.000  2010        1     2   \n",
       "4  67200.000     109.000 336.000      4.000  194.000  2010        1     3   \n",
       "\n",
       "   EMPTY_SEATS DAY_PROXY      DATE  \n",
       "0        0.000         1  2/1/2010  \n",
       "1        4.000         1  2/1/2010  \n",
       "2        4.000         1  2/1/2010  \n",
       "3       25.000         1  2/1/2010  \n",
       "4      227.000         1  3/1/2010  "
      ]
     },
     "execution_count": 192,
     "metadata": {},
     "output_type": "execute_result"
    }
   ],
   "source": [
    "data.head()"
   ]
  },
  {
   "cell_type": "code",
   "execution_count": 238,
   "metadata": {},
   "outputs": [
    {
     "name": "stderr",
     "output_type": "stream",
     "text": [
      "/Users/kessiezhang/anaconda3/lib/python3.7/site-packages/ipykernel_launcher.py:1: SettingWithCopyWarning: \n",
      "A value is trying to be set on a copy of a slice from a DataFrame.\n",
      "Try using .loc[row_indexer,col_indexer] = value instead\n",
      "\n",
      "See the caveats in the documentation: http://pandas.pydata.org/pandas-docs/stable/indexing.html#indexing-view-versus-copy\n",
      "  \"\"\"Entry point for launching an IPython kernel.\n"
     ]
    }
   ],
   "source": [
    "data['DATE'] = pd.to_datetime(data.DATE)"
   ]
  },
  {
   "cell_type": "code",
   "execution_count": 197,
   "metadata": {
    "scrolled": true
   },
   "outputs": [
    {
     "name": "stdout",
     "output_type": "stream",
     "text": [
      "<class 'pandas.core.frame.DataFrame'>\n",
      "Int64Index: 3627692 entries, 0 to 391008\n",
      "Data columns (total 11 columns):\n",
      "PAYLOAD        float64\n",
      "PASSENGERS     float64\n",
      "SEATS          float64\n",
      "FREIGHT        float64\n",
      "MAIL           float64\n",
      "YEAR           object\n",
      "QUARTER        int64\n",
      "MONTH          object\n",
      "EMPTY_SEATS    float64\n",
      "DAY_PROXY      object\n",
      "DATE           datetime64[ns]\n",
      "dtypes: datetime64[ns](1), float64(6), int64(1), object(3)\n",
      "memory usage: 332.1+ MB\n"
     ]
    }
   ],
   "source": [
    "data.info()"
   ]
  },
  {
   "cell_type": "code",
   "execution_count": 240,
   "metadata": {
    "scrolled": true
   },
   "outputs": [
    {
     "name": "stdout",
     "output_type": "stream",
     "text": [
      "<class 'pandas.core.frame.DataFrame'>\n",
      "DatetimeIndex: 120 entries, 2010-01-01 to 2019-12-01\n",
      "Data columns (total 7 columns):\n",
      "PAYLOAD        120 non-null float64\n",
      "PASSENGERS     120 non-null float64\n",
      "SEATS          120 non-null float64\n",
      "FREIGHT        120 non-null float64\n",
      "MAIL           120 non-null float64\n",
      "QUARTER        120 non-null int64\n",
      "EMPTY_SEATS    120 non-null float64\n",
      "dtypes: float64(6), int64(1)\n",
      "memory usage: 7.5 KB\n"
     ]
    }
   ],
   "source": [
    "tsdf = data.groupby('DATE').sum()\n",
    "tsdf.info()"
   ]
  },
  {
   "cell_type": "code",
   "execution_count": 241,
   "metadata": {},
   "outputs": [],
   "source": [
    "tsdf.drop('QUARTER',axis=1,inplace=True)"
   ]
  },
  {
   "cell_type": "code",
   "execution_count": 25,
   "metadata": {},
   "outputs": [
    {
     "name": "stdout",
     "output_type": "stream",
     "text": [
      "                   PAYLOAD   PASSENGERS        SEATS        FREIGHT  \\\n",
      "DATE                                                                  \n",
      "2010-01-01 20221230202.000 46717947.000 66617337.000 1582087091.000   \n",
      "2010-02-01 18231528323.000 43498396.000 59442504.000 1529047157.000   \n",
      "2010-03-01 21467739489.000 55804909.000 70673162.000 1764835211.000   \n",
      "2010-04-01 21025378093.000 53768509.000 68726880.000 1746444288.000   \n",
      "2010-05-01 21345539285.000 55184999.000 70321656.000 1714054671.000   \n",
      "2010-06-01 21594530054.000 58224298.000 71068668.000 1763624364.000   \n",
      "2010-07-01 22263158310.000 60780260.000 73719985.000 1758527183.000   \n",
      "2010-08-01 22199949061.000 58940421.000 73555947.000 1735955564.000   \n",
      "2010-09-01 20773704491.000 51621759.000 68116903.000 1766659172.000   \n",
      "2010-10-01 21553741439.000 56205888.000 70617110.000 1810424478.000   \n",
      "2010-11-01 20770366392.000 52712642.000 68019087.000 1693043200.000   \n",
      "2010-12-01 21643663670.000 52486676.000 68289115.000 1980105814.000   \n",
      "2011-01-01 20199628313.000 47591634.000 66330001.000 1557146288.000   \n",
      "2011-02-01 18648260766.000 44809973.000 60731548.000 1508886543.000   \n",
      "2011-03-01 22292883690.000 57080195.000 72794046.000 1852447775.000   \n",
      "2011-04-01 21199689309.000 54254568.000 69616762.000 1692904483.000   \n",
      "2011-05-01 21489567956.000 57455819.000 71416209.000 1623798351.000   \n",
      "2011-06-01 22014186298.000 59407419.000 72582765.000 1754400948.000   \n",
      "2011-07-01 22469594144.000 62011961.000 75032795.000 1638233113.000   \n",
      "2011-08-01 22159462984.000 59113216.000 73208556.000 1732576738.000   \n",
      "2011-09-01 20521035584.000 52525590.000 67531196.000 1696182068.000   \n",
      "2011-10-01 21136722616.000 55677342.000 69733311.000 1677774975.000   \n",
      "2011-11-01 20375347791.000 53033214.000 66425909.000 1689870933.000   \n",
      "2011-12-01 21619501497.000 52940683.000 68400937.000 1892465016.000   \n",
      "2012-01-01 19724131412.000 48377726.000 66062876.000 1520179755.000   \n",
      "2012-02-01 19071785245.000 47493112.000 63172829.000 1579335368.000   \n",
      "2012-03-01 21460790615.000 57506753.000 71481066.000 1774382641.000   \n",
      "2012-04-01 20468343454.000 54921346.000 68813060.000 1573052468.000   \n",
      "2012-05-01 21138267239.000 57058178.000 70568895.000 1737126792.000   \n",
      "2012-06-01 21281880972.000 59274006.000 71374697.000 1694956442.000   \n",
      "2012-07-01 21749134538.000 61133420.000 73704172.000 1594858934.000   \n",
      "2012-08-01 21733125328.000 60079504.000 72824921.000 1764820762.000   \n",
      "2012-09-01 19701558250.000 51335545.000 66275514.000 1634525220.000   \n",
      "2012-10-01 20443093554.000 54989919.000 68092267.000 1725853023.000   \n",
      "2012-11-01 20025152930.000 52909592.000 66278318.000 1750818791.000   \n",
      "2012-12-01 20520286034.000 52224670.000 66724979.000 1806480566.000   \n",
      "2013-01-01 19785291824.000 48838770.000 65623875.000 1689211660.000   \n",
      "2013-02-01 18218028780.000 46627400.000 60400831.000 1522604531.000   \n",
      "2013-03-01 21180734522.000 57683540.000 71123694.000 1706736684.000   \n",
      "2013-04-01 20465842095.000 54316618.000 68725678.000 1616301512.000   \n",
      "2013-05-01 21197451195.000 57745897.000 71092129.000 1730443392.000   \n",
      "2013-06-01 21082117845.000 59297822.000 71266866.000 1665241385.000   \n",
      "2013-07-01 21796129504.000 60770112.000 74065412.000 1658964318.000   \n",
      "2013-08-01 21839581235.000 59556972.000 73359780.000 1791208395.000   \n",
      "2013-09-01 19848379577.000 51976308.000 67173627.000 1615221968.000   \n",
      "2013-10-01 21239021976.000 55793416.000 70219591.000 1847132869.000   \n",
      "2013-11-01 19867844880.000 51597093.000 66472576.000 1673268224.000   \n",
      "2013-12-01 21106279424.000 55555348.000 67806707.000 1902359616.000   \n",
      "2014-01-01 19499896809.000 49105661.000 63903955.000 1696961154.000   \n",
      "2014-02-01 17902792088.000 46484277.000 58717095.000 1538129635.000   \n",
      "2014-03-01 21326819516.000 58915948.000 71322877.000 1716744675.000   \n",
      "2014-04-01 20954584040.000 56355277.000 68795126.000 1749910701.000   \n",
      "2014-05-01 21428502850.000 59072678.000 70633870.000 1758827017.000   \n",
      "2014-06-01 21540441320.000 60518822.000 71541653.000 1671016220.000   \n",
      "2014-07-01 22451319593.000 63022434.000 74361140.000 1785800077.000   \n",
      "2014-08-01 22009114784.000 61021087.000 73009017.000 1753032428.000   \n",
      "2014-09-01 20458823023.000 53609738.000 67590897.000 1672313463.000   \n",
      "2014-10-01 21690433320.000 58138123.000 71261354.000 1880803775.000   \n",
      "2014-11-01 20442969831.000 53452948.000 67645535.000 1717601836.000   \n",
      "2014-12-01 22145446774.000 56403868.000 69971416.000 2003757893.000   \n",
      "2015-01-01 20100525649.000 50620075.000 66894796.000 1700659132.000   \n",
      "2015-02-01 18393409839.000 47944267.000 60182760.000 1622174033.000   \n",
      "2015-03-01 21918820023.000 60527730.000 72879256.000 1752768802.000   \n",
      "2015-04-01 21757484726.000 58663381.000 71193965.000 1771527130.000   \n",
      "2015-05-01 22351697394.000 61264951.000 73359302.000 1730874336.000   \n",
      "2015-06-01 22583049724.000 62998042.000 74189757.000 1748753284.000   \n",
      "2015-07-01 23134945324.000 66236973.000 77567556.000 1808694407.000   \n",
      "2015-08-01 23175897417.000 63845956.000 76175837.000 1719492014.000   \n",
      "2015-09-01 21258859520.000 56878393.000 69878485.000 1813891537.000   \n",
      "2015-10-01 22227760417.000 61794544.000 73374326.000 1904237067.000   \n",
      "2015-11-01 21188396844.000 57999365.000 70709002.000 1714379046.000   \n",
      "2015-12-01 23339631761.000 58749492.000 72018866.000 2134128757.000   \n",
      "2016-01-01 20952673226.000 53250230.000 69067999.000 1690817765.000   \n",
      "2016-02-01 20254510011.000 51786086.000 66593065.000 1600356801.000   \n",
      "2016-03-01 23944247305.000 62383561.000 76033928.000 1918059330.000   \n",
      "2016-04-01 22581198664.000 59715139.000 73394647.000 1833499171.000   \n",
      "2016-05-01 22933989098.000 63827068.000 76736777.000 1775616793.000   \n",
      "2016-06-01 23397939581.000 65729548.000 77634726.000 1908568724.000   \n",
      "2016-07-01 23819001513.000 67146685.000 79721450.000 1799661083.000   \n",
      "2016-08-01 23900283724.000 64592344.000 79518133.000 1919901267.000   \n",
      "2016-09-01 22221921776.000 59484196.000 73538903.000 1914035356.000   \n",
      "2016-10-01 23069540309.000 62601986.000 76059673.000 1881727708.000   \n",
      "2016-11-01 22601408389.000 60129450.000 73461913.000 1932523437.000   \n",
      "2016-12-01 24645291218.000 60003855.000 74386227.000 2206759506.000   \n",
      "2017-01-01 21973682806.000 54891195.000 72399802.000 1771518671.000   \n",
      "2017-02-01 20192058502.000 51753362.000 66380991.000 1672655148.000   \n",
      "2017-03-01 24108661063.000 64809833.000 78531263.000 2039789205.000   \n",
      "2017-04-01 22925714655.000 61948463.000 75570565.000 1838209228.000   \n",
      "2017-05-01 23908418224.000 65341305.000 79130649.000 1957029982.000   \n",
      "2017-06-01 24327495921.000 67751425.000 80392273.000 2025338324.000   \n",
      "2017-07-01 25727045395.000 69631699.000 82893219.000 1877143415.000   \n",
      "2017-08-01 26207217727.000 67659797.000 82240339.000 2101172092.000   \n",
      "2017-09-01 23421467701.000 57992106.000 73279650.000 1985150436.000   \n",
      "2017-10-01 24288139856.000 65533208.000 78992486.000 2080022045.000   \n",
      "2017-11-01 24429216952.000 62752411.000 75493781.000 2156376133.000   \n",
      "2017-12-01 25129917964.000 62276302.000 76947712.000 2322641785.000   \n",
      "2018-01-01 22768320936.000 56584461.000 74686889.000 1955155670.000   \n",
      "2018-02-01 21135881508.000 54735457.000 69039895.000 1821861503.000   \n",
      "2018-03-01 24451212427.000 67431448.000 80823499.000 2110442024.000   \n",
      "2018-04-01 23914703636.000 65363908.000 79758562.000 1926302422.000   \n",
      "2018-05-01 25130426483.000 68854659.000 82746687.000 2127557333.000   \n",
      "2018-06-01 25106572813.000 71153255.000 83575831.000 2077044193.000   \n",
      "2018-07-01 25684300522.000 73419646.000 86236250.000 2012486802.000   \n",
      "2018-08-01 25870451707.000 71315947.000 85705734.000 2198034246.000   \n",
      "2018-09-01 23718689877.000 61184158.000 78236175.000 2053698222.000   \n",
      "2018-10-01 25537452709.000 67872165.000 82866863.000 2215485708.000   \n",
      "2018-11-01 24269153624.000 65413173.000 79274692.000 2163741807.000   \n",
      "2018-12-01 25454363945.000 64363721.000 80206321.000 2325078849.000   \n",
      "\n",
      "                    MAIL  QUARTER  \n",
      "DATE                               \n",
      "2010-01-01  80877028.000    27716  \n",
      "2010-02-01  71246086.000    27072  \n",
      "2010-03-01  81715979.000    27257  \n",
      "2010-04-01  77466932.000    54710  \n",
      "2010-05-01  72221966.000    57118  \n",
      "2010-06-01  71437723.000    61426  \n",
      "2010-07-01  71318375.000    90459  \n",
      "2010-08-01  64935770.000    89790  \n",
      "2010-09-01  71840204.000    89175  \n",
      "2010-10-01  77855535.000   113472  \n",
      "2010-11-01  75123157.000   113700  \n",
      "2010-12-01  89156953.000   118924  \n",
      "2011-01-01  81142887.000    28337  \n",
      "2011-02-01  73713607.000    28507  \n",
      "2011-03-01  85260580.000    29100  \n",
      "2011-04-01  78932376.000    58038  \n",
      "2011-05-01  73627396.000    58430  \n",
      "2011-06-01  75991785.000    60970  \n",
      "2011-07-01  71294424.000    88425  \n",
      "2011-08-01  68772538.000    90636  \n",
      "2011-09-01  70010909.000    89721  \n",
      "2011-10-01  73131393.000   111056  \n",
      "2011-11-01  76750776.000   115752  \n",
      "2011-12-01  86547951.000   113580  \n",
      "2012-01-01  77462704.000    27548  \n",
      "2012-02-01  75100496.000    26634  \n",
      "2012-03-01  79454514.000    28354  \n",
      "2012-04-01  72966320.000    54748  \n",
      "2012-05-01  75298690.000    56688  \n",
      "2012-06-01  73513745.000    60168  \n",
      "2012-07-01  71150011.000    90006  \n",
      "2012-08-01  78320106.000    91530  \n",
      "2012-09-01  70937371.000    88452  \n",
      "2012-10-01  78686809.000   110860  \n",
      "2012-11-01  73097612.000   118076  \n",
      "2012-12-01  73538322.000   115428  \n",
      "2013-01-01  76689309.000    27956  \n",
      "2013-02-01  70957178.000    27113  \n",
      "2013-03-01  79371750.000    27033  \n",
      "2013-04-01  76997289.000    55478  \n",
      "2013-05-01  76311090.000    54628  \n",
      "2013-06-01  63791667.000    59036  \n",
      "2013-07-01  70538430.000    85437  \n",
      "2013-08-01  74676744.000    88179  \n",
      "2013-09-01  70997267.000    85596  \n",
      "2013-10-01  82803114.000   107640  \n",
      "2013-11-01  77312242.000   116392  \n",
      "2013-12-01  85720199.000   123896  \n",
      "2014-01-01  80169693.000    30022  \n",
      "2014-02-01  71437970.000    28829  \n",
      "2014-03-01  79043111.000    29135  \n",
      "2014-04-01  79029969.000    56136  \n",
      "2014-05-01  77240958.000    59776  \n",
      "2014-06-01  68819503.000    61862  \n",
      "2014-07-01  77889355.000    89958  \n",
      "2014-08-01  78732622.000    92496  \n",
      "2014-09-01  74927579.000    88581  \n",
      "2014-10-01  85984064.000   114512  \n",
      "2014-11-01  78257523.000   115000  \n",
      "2014-12-01  96483059.000   124444  \n",
      "2015-01-01  88039298.000    29825  \n",
      "2015-02-01  80070291.000    28945  \n",
      "2015-03-01  92305482.000    29748  \n",
      "2015-04-01  94867742.000    60160  \n",
      "2015-05-01  91809941.000    59606  \n",
      "2015-06-01  92170071.000    63466  \n",
      "2015-07-01  96938351.000    90831  \n",
      "2015-08-01  96422058.000    94443  \n",
      "2015-09-01  92093087.000    91182  \n",
      "2015-10-01 103731882.000   121484  \n",
      "2015-11-01  84133183.000   124724  \n",
      "2015-12-01 105895606.000   134088  \n",
      "2016-01-01  91545597.000    32126  \n",
      "2016-02-01  76848588.000    30742  \n",
      "2016-03-01  76178126.000    31414  \n",
      "2016-04-01  70318090.000    63092  \n",
      "2016-05-01  71110038.000    60664  \n",
      "2016-06-01  82926711.000    64844  \n",
      "2016-07-01  86971339.000    95289  \n",
      "2016-08-01  90854011.000    97200  \n",
      "2016-09-01  89063186.000    92223  \n",
      "2016-10-01  93876440.000   122020  \n",
      "2016-11-01  94001818.000   129660  \n",
      "2016-12-01 108586373.000   131492  \n",
      "2017-01-01  92937602.000    31608  \n",
      "2017-02-01  86722660.000    29665  \n",
      "2017-03-01 103283729.000    31144  \n",
      "2017-04-01  98383984.000    61236  \n",
      "2017-05-01  99654151.000    59684  \n",
      "2017-06-01 100218018.000    63698  \n",
      "2017-07-01  98521722.000    93609  \n",
      "2017-08-01 108305597.000    97134  \n",
      "2017-09-01  95157482.000    92409  \n",
      "2017-10-01 104234770.000   118740  \n",
      "2017-11-01 100363598.000   122744  \n",
      "2017-12-01 115630684.000   124148  \n",
      "2018-01-01 104349002.000    30493  \n",
      "2018-02-01  91587023.000    29186  \n",
      "2018-03-01 104480720.000    29983  \n",
      "2018-04-01  98839970.000    61474  \n",
      "2018-05-01 102906573.000    61304  \n",
      "2018-06-01  98212024.000    66416  \n",
      "2018-07-01  96351797.000    95442  \n",
      "2018-08-01 101467037.000    99990  \n",
      "2018-09-01  92297229.000    93771  \n",
      "2018-10-01  99538885.000   124632  \n",
      "2018-11-01  92492650.000   134056  \n",
      "2018-12-01 107807704.000   131692  \n"
     ]
    }
   ],
   "source": [
    "with pd.option_context('display.max_rows', None, 'display.max_columns', None):  # more options can be specified also\n",
    "    print(tsdf)"
   ]
  },
  {
   "cell_type": "code",
   "execution_count": 242,
   "metadata": {},
   "outputs": [],
   "source": [
    "tsdf.to_pickle(\"./tsdata.pkl\")"
   ]
  },
  {
   "cell_type": "code",
   "execution_count": null,
   "metadata": {},
   "outputs": [],
   "source": []
  },
  {
   "cell_type": "code",
   "execution_count": 243,
   "metadata": {},
   "outputs": [
    {
     "data": {
      "image/png": "[encoded data removed]",
      "text/plain": [
       "<Figure size 432x288 with 1 Axes>"
      ]
     },
     "metadata": {
      "needs_background": "light"
     },
     "output_type": "display_data"
    }
   ],
   "source": [
    "tsdf.groupby('DATE').sum()['EMPTY_SEATS'].plot();"
   ]
  },
  {
   "cell_type": "code",
   "execution_count": null,
   "metadata": {},
   "outputs": [],
   "source": []
  }
 ],
 "metadata": {
  "kernelspec": {
   "display_name": "metis",
   "language": "python",
   "name": "metis"
  },
  "language_info": {
   "codemirror_mode": {
    "name": "ipython",
    "version": 3
   },
   "file_extension": ".py",
   "mimetype": "text/x-python",
   "name": "python",
   "nbconvert_exporter": "python",
   "pygments_lexer": "ipython3",
   "version": "3.7.3"
  }
 },
 "nbformat": 4,
 "nbformat_minor": 2
}
